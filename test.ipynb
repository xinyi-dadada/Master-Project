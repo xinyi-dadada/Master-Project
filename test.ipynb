{
 "cells": [
  {
   "cell_type": "code",
   "execution_count": 20,
   "id": "initial_id",
   "metadata": {
    "ExecuteTime": {
     "end_time": "2024-04-30T08:52:30.378719Z",
     "start_time": "2024-04-30T08:52:29.552695Z"
    }
   },
   "source": [
    "import pandas as pd\n",
    "import numpy as np\n",
    "import matplotlib.pyplot as plt\n",
    "from scipy.cluster.hierarchy import linkage, dendrogram, fcluster\n",
    "from sklearn.svm import SVR\n",
    "from sklearn.preprocessing import StandardScaler\n",
    "from sklearn.metrics import mean_squared_error"
   ],
   "outputs": []
  },
  {
   "cell_type": "code",
   "execution_count": 17,
   "id": "80312848-1ec5-4bfa-b6c9-ff3aef7c4585",
   "metadata": {},
   "source": [
    "df = pd.read_parquet('radar_112/combined_task_all_0807.parquet')\n",
    "df = df.iloc[:,:6]\n",
    "df_arr = df.to_numpy()\n",
    "df_arr.shape"
   ],
   "outputs": []
  },
  {
   "cell_type": "code",
   "execution_count": 18,
   "id": "70130617-9bd1-4cbe-86b8-4f3fc7c3f70a",
   "metadata": {},
   "source": [
    "reshaped_arr = df_arr.reshape(132, -1)\n",
    "reshaped_arr"
   ],
   "outputs": []
  },
  {
   "cell_type": "code",
   "execution_count": 21,
   "id": "038b136a-dc82-4e43-83fa-eebdcd0e0b34",
   "metadata": {},
   "source": [
    "linked = linkage(reshaped_arr, method='ward')"
   ],
   "outputs": []
  },
  {
   "cell_type": "code",
   "execution_count": 3,
   "id": "77f0e56d11050d22",
   "metadata": {},
   "source": [
    "data = pd.read_parquet(\"data/parquet_samples/radar_samples_192.168.67.112_412.parquet\",\n",
    "                        engine='fastparquet')\n",
    "tasks = pd.read_csv('data/task.csv')"
   ],
   "outputs": []
  },
  {
   "cell_type": "code",
   "execution_count": 4,
   "id": "e7656666-ba6e-4c2d-8e2e-8c0fe607824b",
   "metadata": {},
   "source": [
    "divider = DivideData(data, tasks)"
   ],
   "outputs": []
  },
  {
   "cell_type": "code",
   "execution_count": 5,
   "id": "89fe46b7-f621-4d52-af04-2f88cc7ade60",
   "metadata": {},
   "source": [
    "participants, num = divider.divide_participants()\n",
    "col_names = divider.data.columns[:6]\n",
    "col_names"
   ],
   "outputs": []
  },
  {
   "cell_type": "code",
   "execution_count": 21,
   "id": "ddb3ae83-34ba-47c7-b0fa-c2c4466cf03b",
   "metadata": {},
   "source": [
    "for i in range(num):\n",
    "    participant = participants[f'participant_{i + 1}']\n",
    "    participant = participant.reset_index(drop=True)\n",
    "\n",
    "    # divide data by task per participant, e.g. participant 1, return the first and the last index of this task\n",
    "    task_all = divider.divide_task_index(participant)\n",
    "    \n",
    "    for j in range(0, 7):\n",
    "        start, end = task_all[f'T_{j}']\n",
    "        # prepare an array for storing signal data for 6 channels\n",
    "        task_arr = np.empty((6, end-start))\n",
    "        k = 0 # initialize for channels\n",
    "        for col in col_names:\n",
    "            # exploded the 2D array to a 1D list, for plotting and computation\n",
    "            data_series = participant[col]\n",
    "            data_series_exploded = data_series.explode(col)\n",
    "            merged_list = data_series_exploded.tolist()\n",
    "            task_l = merged_list[start:end]\n",
    "            # normalize\n",
    "            task_l_mean = np.mean(task_l)\n",
    "            task_l_std = np.std(task_l)\n",
    "            task_arr[k,:] = (task_l - task_l_mean) / task_l_std\n",
    "            # next channel\n",
    "            k += 1\n",
    "        file_path = f'participant/part_{i + 1}/task_{j}'\n",
    "        "
   ],
   "outputs": []
  },
  {
   "cell_type": "code",
   "execution_count": 8,
   "id": "92b16d18-17d9-4748-b5ed-001f99fbef51",
   "metadata": {},
   "source": [
    "df = pd.DataFrame(task_arr.T, columns=col_names)\n",
    "df.to_parquet(file_path, engine = 'fastparquet')"
   ],
   "outputs": []
  },
  {
   "cell_type": "code",
   "execution_count": 10,
   "id": "0fc035cd-27be-4fb9-85b0-847bc8cd49aa",
   "metadata": {},
   "source": [
    "data_2 = pd.read_parquet(file_path, engine = 'fastparquet')"
   ],
   "outputs": []
  },
  {
   "cell_type": "code",
   "execution_count": 23,
   "id": "c307e1a6-59b1-4c46-bbfe-d7b598312f55",
   "metadata": {},
   "source": [
    "data_2.shape"
   ],
   "outputs": []
  },
  {
   "cell_type": "code",
   "execution_count": 13,
   "id": "59abe8e4-3578-4d14-96f8-389534d7354f",
   "metadata": {},
   "source": [
    "data_2_arr = data_2.to_numpy()\n",
    "data_2_arr = data_2_arr.T\n",
    "fig, ax = plt.subplots(figsize=(18, 6))\n",
    "for m in range(6):\n",
    "    ax.plot(data_2_arr[m], label=col_names[m], alpha = 0.3)\n",
    "ax.legend()\n",
    "plt.show()"
   ],
   "outputs": []
  },
  {
   "cell_type": "code",
   "execution_count": 30,
   "id": "eb23d9f8-5f19-4f46-9548-42c8ac9018f2",
   "metadata": {},
   "source": [
    "data_2_mean = data_2.rolling(window=256).mean"
   ],
   "outputs": []
  },
  {
   "cell_type": "code",
   "execution_count": 22,
   "id": "60ed1514-6225-4e92-af6f-92dc6820be11",
   "metadata": {},
   "source": [
    "data_2_mean.shape"
   ],
   "outputs": []
  },
  {
   "cell_type": "code",
   "execution_count": 17,
   "id": "200ca216-f52d-4418-ac86-9ec1b34f0ebd",
   "metadata": {},
   "source": [
    "data_2_arr = data_2_mean.to_numpy()\n",
    "data_2_arr = data_2_arr.T\n",
    "fig, ax = plt.subplots(figsize=(18, 6))\n",
    "for m in range(6):\n",
    "    ax.plot(data_2_arr[m], label=col_names[m], alpha = 0.3)\n",
    "ax.legend()\n",
    "plt.show()"
   ],
   "outputs": []
  },
  {
   "cell_type": "code",
   "execution_count": 46,
   "id": "d64704e0-1bd4-4bed-b3ea-a0709d001225",
   "metadata": {},
   "source": [
    "data_2_row_mean = data_2.mean(axis=1)\n"
   ],
   "outputs": []
  },
  {
   "cell_type": "code",
   "execution_count": 47,
   "id": "34791492-a3a6-4f42-9269-751415834863",
   "metadata": {},
   "source": [
    "plt.plot(data_2_row_mean, alpha=0.3)\n",
    "plt.show()"
   ],
   "outputs": []
  },
  {
   "cell_type": "code",
   "execution_count": 42,
   "id": "df2ef91c-e250-4ec0-ab18-bf1618883e57",
   "metadata": {},
   "source": [
    "data_2_row_mean.rolling(window=256).mean"
   ],
   "outputs": []
  },
  {
   "cell_type": "code",
   "execution_count": 43,
   "id": "509f5b4d-9fee-4fdf-b5b8-8a3fabf25025",
   "metadata": {},
   "source": [
    "import pandas as pd\n",
    "\n",
    "# Assuming data_2 is your DataFrame\n",
    "data_2_row_mean = data_2.mean(axis=1)  # Compute mean across each row\n",
    "data_2_row_mean_rolling = data_2_row_mean.rolling(window=256).mean()\n"
   ],
   "outputs": []
  },
  {
   "cell_type": "code",
   "execution_count": 45,
   "id": "9d5975cb-4199-487b-bf1b-a6c9fdcb4c3e",
   "metadata": {},
   "source": [
    "import matplotlib.pyplot as plt\n",
    "\n",
    "plt.plot(data_2_row_mean_rolling, alpha = 0.3)\n",
    "plt.xlabel('Index')\n",
    "plt.ylabel('Rolling Mean')\n",
    "plt.title('Rolling Mean of Row Means')\n",
    "plt.show()\n"
   ],
   "outputs": []
  },
  {
   "cell_type": "code",
   "execution_count": 49,
   "id": "09a3c417-39c4-4c5c-9d83-6dddbab97ae2",
   "metadata": {},
   "source": [
    "data_2_row_mean_rolling_df = pd.DataFrame(data_2_row_mean_rolling, columns=['rolling_mean'])\n",
    "data_2_row_mean_rolling_df.to_parquet('data_2_row_mean_rolling.parquet')"
   ],
   "outputs": []
  },
  {
   "cell_type": "code",
   "execution_count": 50,
   "id": "3138904e-dfc6-4fa4-b14a-1fa01461609f",
   "metadata": {},
   "source": [
    "df = pd.read_parquet('data_2_row_mean_rolling.parquet')\n",
    "plt.plot(df)"
   ],
   "outputs": []
  },
  {
   "cell_type": "code",
   "execution_count": null,
   "id": "967c4b64-a917-461d-b800-2f836d0f6f05",
   "metadata": {},
   "source": [],
   "outputs": []
  }
 ],
 "metadata": {
  "kernelspec": {
   "display_name": "Python 3 (ipykernel)",
   "language": "python",
   "name": "python3"
  },
  "language_info": {
   "codemirror_mode": {
    "name": "ipython",
    "version": 3
   },
   "file_extension": ".py",
   "mimetype": "text/x-python",
   "name": "python",
   "nbconvert_exporter": "python",
   "pygments_lexer": "ipython3",
   "version": "3.11.9"
  }
 },
 "nbformat": 4,
 "nbformat_minor": 5
}
