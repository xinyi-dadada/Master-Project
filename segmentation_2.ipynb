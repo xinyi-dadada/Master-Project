{
 "cells": [
  {
   "cell_type": "markdown",
   "id": "10acedec-4107-41b0-a79c-67c4c48cc986",
   "metadata": {},
   "source": [
    "# Segmentation "
   ]
  },
  {
   "cell_type": "markdown",
   "id": "0517ee59-adfb-4fca-9434-4c8a0cc22245",
   "metadata": {},
   "source": [
    "## Prepare data\n",
    "merge channels"
   ]
  },
  {
   "cell_type": "code",
   "execution_count": 3,
   "id": "eacd32a8-ee28-45a3-94dc-75fac67235cc",
   "metadata": {},
   "source": [
    "import pandas as pd\n",
    "import matplotlib.pyplot as plt\n",
    "import math\n",
    "import numpy as np\n",
    "from data import DivideData\n",
    "import random"
   ],
   "outputs": []
  },
  {
   "cell_type": "code",
   "execution_count": 4,
   "id": "86ddc99e-690b-4040-a22f-a61b0ac07280",
   "metadata": {},
   "source": [
    "def rx_values(i_values, q_values):\n",
    "    a1i = np.array([np.array(row) for row in i_values])\n",
    "    a1q = np.array([np.array(row) for row in q_values])\n",
    "    \n",
    "    n = np.array(range(256)) / 256\n",
    "    f_c = 24_000_000_000  # 24 GHz\n",
    "    v = 2.0 * np.pi * f_c * n\n",
    "    \n",
    "    value_rx = a1i * np.cos(v) + a1q + np.sin(v)   \n",
    "    return value_rx, a1i, a1q"
   ],
   "outputs": []
  },
  {
   "cell_type": "code",
   "execution_count": 5,
   "id": "29a17db4-2bc3-43e4-b3bb-382d58b8d5de",
   "metadata": {},
   "source": [
    "dt = pd.read_parquet('data/parquet_samples/13_06_22/radar_samples_192.168.67.112_412.parquet')"
   ],
   "outputs": []
  },
  {
   "cell_type": "markdown",
   "id": "62cf682d-bf7e-49a3-9ebf-6871752bbeb0",
   "metadata": {},
   "source": [
    "split by participants first!"
   ]
  },
  {
   "cell_type": "code",
   "execution_count": 6,
   "id": "b79d76d8-ee8e-4a7f-a9a3-adb50ba522c8",
   "metadata": {},
   "source": [
    "def prepare_arr(dt):\n",
    "    rx1_a_i = dt['rx1_freq_a_channel_i_data']\n",
    "    rx1_a_q = dt['rx1_freq_a_channel_q_data']\n",
    "    rx2_a_i = dt['rx2_freq_a_channel_i_data'] \n",
    "    rx2_a_q = dt['rx2_freq_a_channel_q_data']\n",
    "    rx1_b_i = dt['rx1_freq_b_channel_i_data']\n",
    "    rx1_b_q = dt['rx1_freq_b_channel_q_data']\n",
    "\n",
    "    # merge!\n",
    "    a1_rx, a1_i_values, a1_q_values = rx_values(i_values=rx1_a_i,  q_values=rx1_a_q)\n",
    "    a2_rx, a2_i_values, a2_q_values = rx_values(i_values=rx2_a_i,  q_values=rx2_a_q)\n",
    "    b1_rx, b1_i_values, b1_q_values = rx_values(i_values=rx1_b_i,  q_values=rx1_b_q)\n",
    "\n",
    "    #With the Merge function, now the channel of i and q are combine together, but it is a 2D array, need to reshape it to 1D\n",
    "    a1_rx_1d = a1_rx.reshape(-1)\n",
    "    a2_rx_1d = a2_rx.reshape(-1)\n",
    "    b1_rx_1d = b1_rx.reshape(-1)\n",
    "\n",
    "    #convert all three channels together and use information gain for segmentation\n",
    "    merged_arrs = np.vstack((a1_rx_1d, a2_rx_1d, b1_rx_1d))\n",
    "\n",
    "    return merged_arrs"
   ],
   "outputs": []
  },
  {
   "cell_type": "code",
   "execution_count": 7,
   "id": "8fad6ce0-d896-4dbf-ba73-0121da856b55",
   "metadata": {},
   "source": [
    "def igts_usage(arr, k, step, par_num, count):\n",
    "    # IGTS\n",
    "    TD_TT, IG_arr, knee = TopDown(arr, k, step=step)\n",
    "    print(f'knee={knee}')\n",
    "    #k = knee\n",
    "    #TD_TT, IG_arr, knee = TopDown(arr, k, step=step)\n",
    "    print(TD_TT)\n",
    "    #plot_segments(arr, TD_TT, f'/home/Shared/xinyi/blob1/thesis/figure/IGTS/IGTS_igcul_k={k}_s={step}_{par_num}_{count}')\n",
    "    return TD_TT"
   ],
   "outputs": []
  },
  {
   "cell_type": "code",
   "execution_count": 10,
   "id": "1385e320-4a79-463c-ac5b-75286714bb16",
   "metadata": {
    "scrolled": true
   },
   "source": [
    "divide_data = DivideData(dt, '/home/Shared/xinyi/blob1/thesis')\n",
    "participants, num_par = divide_data.divide_participants()\n",
    "participants['participant_1']"
   ],
   "outputs": []
  },
  {
   "cell_type": "code",
   "execution_count": 24,
   "id": "bdc049c6-d638-4d37-8e09-e12a04d68362",
   "metadata": {
    "scrolled": true
   },
   "source": [
    "participant = participants['participant_1']\n",
    "tasks = pd.read_csv('/home/Shared/xinyi/blob1/thesis/data/task.csv')\n",
    "task_index = {}\n",
    "for i in range(15):\n",
    "    T = participant[participant['task_uuid'] == tasks['UUID'][i]].index\n",
    "    task_index[f'T_{i}'] = T"
   ],
   "outputs": []
  },
  {
   "cell_type": "code",
   "execution_count": 26,
   "id": "08075f9b-6116-42d5-83c4-a9cb22594c9a",
   "metadata": {
    "scrolled": true
   },
   "source": [
    "task_index"
   ],
   "outputs": []
  },
  {
   "cell_type": "code",
   "execution_count": 21,
   "id": "f3b36cd5-e731-439a-be18-606c2ce3a169",
   "metadata": {},
   "source": [
    "important_task = ['T_0', 'T_6', 'T_7', 'T_11']\n",
    "for key, var in enumerate(task_index):\n",
    "    if var in important_task:\n",
    "        "
   ],
   "outputs": []
  },
  {
   "cell_type": "code",
   "execution_count": 9,
   "id": "3ad645c8-8cac-4258-b292-a44159e78bb1",
   "metadata": {},
   "source": [
    "for par in participants:\n",
    "    participant = participants[par]\n",
    "    par_dt = participant.iloc[:,:6]\n",
    "    print(par_dt)"
   ],
   "outputs": []
  },
  {
   "cell_type": "code",
   "execution_count": 90,
   "id": "11773567-a0b7-45a5-8be6-b5de6358cec4",
   "metadata": {
    "scrolled": true
   },
   "source": [
    "for par in participants:\n",
    "    participant = participants[par]\n",
    "    par_dt = participant.iloc[:,:6]\n",
    "    merged_arrs = prepare_arr(par_dt)\n",
    "    \n",
    "    #split the arrays\n",
    "    merged_arrs_split = np.array_split(merged_arrs, 10, axis=1)\n",
    "    \n",
    "    count = 1\n",
    "    for split_arr in merged_arrs_split:\n",
    "        \n",
    "        igts_usage(split_arr, k=10, step=10, par_num=par, count=count)\n",
    "    "
   ],
   "outputs": []
  },
  {
   "cell_type": "code",
   "execution_count": 93,
   "id": "5f5637e8-6d77-4092-b02d-1baefb8116fe",
   "metadata": {},
   "source": [
    "for par in participants:\n",
    "    participant = participants[par]\n",
    "    par_dt = participant.iloc[:,:6]\n",
    "    merged_arrs = prepare_arr(par_dt)\n",
    "    \n",
    "    #split the arrays\n",
    "    merged_arrs_split = np.array_split(merged_arrs, 10, axis=1)\n",
    "    \n",
    "    count = 1\n",
    "    for split_arr in merged_arrs_split:\n",
    "        segments = igts_usage(split_arr, k=10, step=10, par_num=par, count=count)\n",
    "        \n",
    "        for i in range(data.shape[0]):\n",
    "            plt.plot(data[i], label=f'Channel {i+1}', alpha=0.7)\n",
    "\n",
    "        for seg in segments:\n",
    "            random_color = [random.random() for _ in range(3)]\n",
    "            plt.axvline(x=seg, color=random_color, linestyle='--')\n",
    "\n",
    "        plt.title('Time Series Segmentation')\n",
    "        plt.xlabel('Time')\n",
    "        plt.ylabel('Value')\n",
    "        plt.legend()\n",
    "        plt.show()"
   ],
   "outputs": []
  },
  {
   "cell_type": "code",
   "execution_count": null,
   "id": "15fa55d8-0b72-4e0e-8828-7c41079be04c",
   "metadata": {},
   "source": [],
   "outputs": []
  }
 ],
 "metadata": {
  "kernelspec": {
   "display_name": "Python 3 (ipykernel)",
   "language": "python",
   "name": "python3"
  },
  "language_info": {
   "codemirror_mode": {
    "name": "ipython",
    "version": 3
   },
   "file_extension": ".py",
   "mimetype": "text/x-python",
   "name": "python",
   "nbconvert_exporter": "python",
   "pygments_lexer": "ipython3",
   "version": "3.11.9"
  }
 },
 "nbformat": 4,
 "nbformat_minor": 5
}
