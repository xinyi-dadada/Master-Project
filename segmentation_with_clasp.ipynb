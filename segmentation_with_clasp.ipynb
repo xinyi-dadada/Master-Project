{
 "cells": [
  {
   "cell_type": "markdown",
   "id": "social-laptop",
   "metadata": {},
   "source": [
    "# Time Series Segmentation with aeon and ClaSP\n",
    "\n",
    "In this notebook, we will showcase `aeon` and `ClaSP` for the task of time series segmentation. We illustrate the ease of use of ClaSP, and present the found segmentation for a show case."
   ]
  },
  {
   "cell_type": "markdown",
   "id": "palestinian-innocent",
   "metadata": {},
   "source": [
    "\n",
    "# Prerequisites"
   ]
  },
  {
   "cell_type": "code",
   "execution_count": 1,
   "id": "religious-fields",
   "metadata": {
    "ExecuteTime": {
     "end_time": "2024-01-22T11:11:19.780563900Z",
     "start_time": "2024-01-22T11:11:18.730357600Z"
    },
    "scrolled": true
   },
   "source": [
    "import sys\n",
    "\n",
    "sys.path.insert(0, \"..\")\n",
    "\n",
    "import pandas as pd\n",
    "import seaborn as sns\n",
    "\n",
    "sns.set_theme()\n",
    "sns.set_color_codes()\n",
    "\n",
    "from aeon.datasets import load_electric_devices_segmentation\n",
    "from aeon.segmentation import ClaSPSegmenter, find_dominant_window_sizes\n",
    "from aeon.visualisation import plot_series_with_change_points, plot_series_with_profiles"
   ],
   "outputs": []
  },
  {
   "cell_type": "markdown",
   "id": "continuing-prototype",
   "metadata": {},
   "source": [
    "The following use case shows an energy profile of electric household devices with four change points indicating different operational states or pluged household devices."
   ]
  },
  {
   "cell_type": "code",
   "execution_count": 11,
   "id": "dangerous-benefit",
   "metadata": {
    "ExecuteTime": {
     "end_time": "2024-01-22T11:11:20.088762200Z",
     "start_time": "2024-01-22T11:11:19.780563900Z"
    }
   },
   "source": [
    "ts, period_size, true_cps = load_electric_devices_segmentation()\n",
    "_ = plot_series_with_change_points(ts, true_cps, title=\"Electric Devices\")"
   ],
   "outputs": []
  },
  {
   "cell_type": "code",
   "execution_count": 13,
   "id": "a094a5ad-9409-44df-942e-bdca1e309f5a",
   "metadata": {},
   "source": [
    "type(ts)"
   ],
   "outputs": []
  },
  {
   "cell_type": "markdown",
   "id": "provincial-comment",
   "metadata": {},
   "source": [
    "The anotated change points are around time stamps $[1090,4436,5712,7923]$, from which different electric devices are recorded."
   ]
  },
  {
   "cell_type": "markdown",
   "id": "stopped-supervisor",
   "metadata": {},
   "source": [
    "# Time Series Segmentation through ClaSP\n",
    "\n",
    "This Jupyter-Notebook illustrates the usage of the *Classification Score Profile (ClaSP)* for time series segmentation.\n",
    "\n",
    "ClaSP hierarchically splits a TS into two parts, where each split point is determined by training a binary TS classifier for each possible split point and selecting the one with highest accuracy, i.e., the one that is best at identifying subsequences to be from either of the partitions.\n",
    "\n",
    "Please refer to our paper, published at CIKM '21, for details:\n",
    "*P. Schäfer, A. Ermshaus, U. Leser, ClaSP - Time Series Segmentation, CIKM 2021*"
   ]
  },
  {
   "cell_type": "markdown",
   "id": "strange-saying",
   "metadata": {},
   "source": [
    "# Retrieve the data\n",
    "\n",
    "First lets look at and plot the time series to be segmented."
   ]
  },
  {
   "cell_type": "code",
   "execution_count": 3,
   "id": "spread-slope",
   "metadata": {
    "ExecuteTime": {
     "end_time": "2024-01-22T11:11:20.102725300Z",
     "start_time": "2024-01-22T11:11:20.089760400Z"
    }
   },
   "source": [
    "# ts is a pd.Series\n",
    "# we convert it into a DataFrame for display purposed only\n",
    "pd.DataFrame(ts)"
   ],
   "outputs": []
  },
  {
   "cell_type": "code",
   "execution_count": 10,
   "id": "f36ba53a-720d-4128-b595-92c18bcfc4f9",
   "metadata": {},
   "source": [
    "type(ts)"
   ],
   "outputs": []
  },
  {
   "cell_type": "markdown",
   "id": "unlimited-brain",
   "metadata": {},
   "source": [
    "# ClaSP - Classification Score Profile\n",
    "\n",
    "Let's run ClaSP to find the true change point.\n",
    "\n",
    "ClaSP has two hyper-parameters:\n",
    "- The period length\n",
    "- The number of change points to find\n",
    "\n",
    "The result of ClaSP is a profile in which the maximum indicates the found change points."
   ]
  },
  {
   "cell_type": "code",
   "execution_count": 4,
   "id": "11a52de5-35e2-4d2a-8010-35e5fdecb91d",
   "metadata": {},
   "source": [
    "period_size"
   ],
   "outputs": []
  },
  {
   "cell_type": "code",
   "execution_count": 5,
   "id": "removed-health",
   "metadata": {
    "ExecuteTime": {
     "end_time": "2024-01-22T11:11:31.256365400Z",
     "start_time": "2024-01-22T11:11:20.099734400Z"
    }
   },
   "source": [
    "clasp = ClaSPSegmenter(period_length=period_size, n_cps=5)\n",
    "found_cps = clasp.fit_predict(ts)\n",
    "profiles = clasp.profiles\n",
    "scores = clasp.scores\n",
    "print(\"The found change points are\", found_cps)"
   ],
   "outputs": []
  },
  {
   "cell_type": "markdown",
   "id": "retired-sherman",
   "metadata": {},
   "source": [
    "# Visualization of segmentation\n",
    "... and we visualize the results."
   ]
  },
  {
   "cell_type": "code",
   "execution_count": 6,
   "id": "miniature-wound",
   "metadata": {
    "ExecuteTime": {
     "end_time": "2024-01-22T11:11:32.407066100Z",
     "start_time": "2024-01-22T11:11:31.256365400Z"
    }
   },
   "source": [
    "_ = plot_series_with_profiles(\n",
    "    ts,\n",
    "    profiles,\n",
    "    true_cps=true_cps,\n",
    "    found_cps=found_cps,\n",
    "    title=\"Electric Devices\",\n",
    ")"
   ],
   "outputs": []
  },
  {
   "cell_type": "markdown",
   "id": "downtown-knitting",
   "metadata": {},
   "source": [
    "The predicted change points in green closely resembles the true change points in red."
   ]
  },
  {
   "cell_type": "markdown",
   "id": "interstate-delta",
   "metadata": {},
   "source": [
    "# Output formats\n",
    "\n",
    "ClaSP provides two different output formats given the `fmt` input parameter:\n",
    "- `fmt:\"sparse\"`: provides the core change points\n",
    "- `fmt:\"dense\"`: provides an inteval series giving the segmentation\n",
    "\n",
    "We have seen the output of `fmt=\"sparse\"` before. This time we return `fmt=\"dense\"`."
   ]
  },
  {
   "cell_type": "code",
   "execution_count": 7,
   "id": "affecting-league",
   "metadata": {
    "ExecuteTime": {
     "end_time": "2024-01-22T11:11:41.385208800Z",
     "start_time": "2024-01-22T11:11:32.407066100Z"
    }
   },
   "source": [
    "clasp = ClaSPSegmenter(period_length=period_size, n_cps=5)\n",
    "found_segmentation = clasp.fit_predict(ts)\n",
    "print(found_segmentation)"
   ],
   "outputs": []
  },
  {
   "cell_type": "markdown",
   "id": "naughty-gazette",
   "metadata": {},
   "source": [
    "# ClaSP - Window Size Selection\n",
    "\n",
    "ClaSP takes the window size 𝑤 as a hyper-parameter. This parameter has data-dependent effects on ClaSP’s performance. When chosen too small, all windows tend to appear similar; when chosen too large, windows have a higher chance to overlap adjacent segments, blurring their discriminative power.\n",
    "\n",
    "A simple, yet effective method for choosing the window size is the dominant frequency of the Fourier Transform."
   ]
  },
  {
   "cell_type": "code",
   "execution_count": 8,
   "id": "premier-pipeline",
   "metadata": {
    "ExecuteTime": {
     "end_time": "2024-01-22T11:11:41.509323100Z",
     "start_time": "2024-01-22T11:11:41.385208800Z"
    }
   },
   "source": [
    "dominant_period_size = find_dominant_window_sizes(ts)\n",
    "print(\"Dominant Period\", dominant_period_size)"
   ],
   "outputs": []
  },
  {
   "cell_type": "markdown",
   "id": "chubby-following",
   "metadata": {},
   "source": [
    "Let us run ClaSP with the found dominant period length."
   ]
  },
  {
   "cell_type": "code",
   "execution_count": 9,
   "id": "congressional-begin",
   "metadata": {
    "ExecuteTime": {
     "end_time": "2024-01-22T11:11:51.308709200Z",
     "start_time": "2024-01-22T11:11:41.510320700Z"
    }
   },
   "source": [
    "clasp = ClaSPSegmenter(period_length=dominant_period_size, n_cps=5)\n",
    "found_cps = clasp.fit_predict(ts)\n",
    "profiles = clasp.profiles\n",
    "scores = clasp.scores\n",
    "\n",
    "_ = plot_series_with_profiles(\n",
    "    ts,\n",
    "    profiles,\n",
    "    true_cps=true_cps,\n",
    "    found_cps=found_cps,\n",
    "    title=\"ElectricDevices\",\n",
    ")"
   ],
   "outputs": []
  },
  {
   "cell_type": "code",
   "execution_count": null,
   "id": "be4ba017-adcf-48ab-b227-ce47bd3aac4b",
   "metadata": {},
   "source": [],
   "outputs": []
  }
 ],
 "metadata": {
  "kernelspec": {
   "display_name": "Python 3 (ipykernel)",
   "language": "python",
   "name": "python3"
  },
  "language_info": {
   "codemirror_mode": {
    "name": "ipython",
    "version": 3
   },
   "file_extension": ".py",
   "mimetype": "text/x-python",
   "name": "python",
   "nbconvert_exporter": "python",
   "pygments_lexer": "ipython3",
   "version": "3.11.9"
  }
 },
 "nbformat": 4,
 "nbformat_minor": 5
}
