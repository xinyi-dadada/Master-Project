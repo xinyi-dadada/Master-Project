{
 "cells": [
  {
   "cell_type": "code",
   "execution_count": 1,
   "id": "9ae3fe56-6ebb-4498-93de-a3545291a11d",
   "metadata": {},
   "source": [
    "import pandas as pd\n",
    "import numpy as np\n",
    "from aeon.datasets import load_electric_devices_segmentation, load_from_tsv_file\n",
    "from aeon.segmentation import ClaSPSegmenter, find_dominant_window_sizes\n",
    "from aeon.visualisation import plot_series_with_change_points, plot_series_with_profiles"
   ],
   "outputs": []
  },
  {
   "cell_type": "code",
   "execution_count": 2,
   "id": "00983705-4acf-4708-bfe2-5a9d892fc826",
   "metadata": {},
   "source": [
    "# read parquet\n",
    "data = pd.read_parquet('data/parquet_samples/13_06_22/radar_samples_192.168.67.112_412.parquet')\n",
    "# first six columns are data for segmentation\n",
    "data_s = data.iloc[:, :6]\n",
    "col_names = data_s.columns"
   ],
   "outputs": []
  },
  {
   "cell_type": "code",
   "execution_count": 4,
   "id": "1662f23d-1cb9-4068-a649-da6eab9bf59c",
   "metadata": {},
   "source": [
    "data_s"
   ],
   "outputs": []
  },
  {
   "cell_type": "code",
   "execution_count": 3,
   "id": "a1fd7550-8a49-4539-9788-864a68845858",
   "metadata": {},
   "source": [
    "# prepare the np array for the data\n",
    "all_col_l = []\n",
    "for col in col_names:\n",
    "    df = data_s[col]\n",
    "    data_series = pd.DataFrame(df)\n",
    "    data_series_exploded = data_series.explode(col)\n",
    "    merged_list = data_series_exploded[col].tolist()\n",
    "    # normalize\n",
    "    merged_l_mean = np.mean(merged_list)\n",
    "    merged_l_std = np.std(merged_list)\n",
    "    merged_list = (merged_list - merged_l_mean) / merged_l_std\n",
    "\n",
    "    all_col_l.append(merged_list)\n",
    "\n",
    "all_col_arr = np.array(all_col_l)\n",
    "arr_split = np.split(all_col_arr, 10, axis=1)\n",
    "arr_split"
   ],
   "outputs": []
  },
  {
   "cell_type": "code",
   "execution_count": 14,
   "id": "2f376067-21be-472c-8c09-31e477ed0aa1",
   "metadata": {},
   "source": [
    "num = 1\n",
    "for arr in arr_split:\n",
    "    np.savetxt(f'06_22_radar112_{num}.tsv', all_col_arr, delimiter='\\t', fmt='%.8f')\n",
    "    num += 1"
   ],
   "outputs": []
  },
  {
   "cell_type": "code",
   "execution_count": 8,
   "id": "26568663-2dfd-4a75-be52-caa65bb443b0",
   "metadata": {},
   "source": [
    "np.savetxt('06_22_radar112.tsv', all_col_arr, delimiter='\\t', fmt='%.8f')"
   ],
   "outputs": []
  },
  {
   "cell_type": "code",
   "execution_count": 15,
   "id": "ab4c0031-371b-417e-bd86-424109aa8e5c",
   "metadata": {},
   "source": [
    "X, y = load_from_tsv_file('06_22_radar112_1.tsv')"
   ],
   "outputs": []
  },
  {
   "cell_type": "code",
   "execution_count": 9,
   "id": "4e4e73a4-9b52-4024-98e2-b5dfbebba481",
   "metadata": {},
   "source": [
    "loaded_array = np.loadtxt('06_22_radar112.tsv', delimiter='\\t')\n",
    "loaded_array"
   ],
   "outputs": []
  },
  {
   "cell_type": "code",
   "execution_count": null,
   "id": "2fe3432c-6e9e-4217-a6c6-4ae7c4b1a596",
   "metadata": {},
   "source": [],
   "outputs": []
  },
  {
   "cell_type": "code",
   "execution_count": 6,
   "id": "bf0997c6-8e62-466f-b941-ebc8c1c43b02",
   "metadata": {},
   "source": [
    "from aeon.datasets import load_electric_devices_segmentation, load_gun_point_segmentation\n",
    "X, true_period_size, cps = load_gun_point_segmentation()\n",
    "X"
   ],
   "outputs": []
  },
  {
   "cell_type": "code",
   "execution_count": null,
   "id": "104ac6d9-5dfe-4a38-a4dd-666b3417dda0",
   "metadata": {},
   "source": [
    "dominant_period_size = find_dominant_window_sizes(X)\n",
    "clasp = ClaSPSegmenter(dominant_period_size, n_cps=1)\n"
   ],
   "outputs": []
  },
  {
   "cell_type": "code",
   "execution_count": null,
   "id": "71bc7f79-edaa-4755-af42-0b99b027dd7a",
   "metadata": {},
   "source": [
    "found_cps = clasp.fit_predict(X)\n",
    "profiles = clasp.profiles\n",
    "scores = clasp.scores"
   ],
   "outputs": []
  },
  {
   "cell_type": "code",
   "execution_count": 13,
   "id": "c196c116-1c23-42d1-9391-86f0a8401d0e",
   "metadata": {},
   "source": [
    "import numpy as np\n",
    "from igts import *\n",
    "import matplotlib.pyplot as plt\n",
    "import seaborn as sns\n",
    "import pandas as pd\n"
   ],
   "outputs": []
  },
  {
   "cell_type": "code",
   "execution_count": 14,
   "id": "5ffe8bdb-297b-408e-a96d-2f372d34e0db",
   "metadata": {
    "scrolled": true
   },
   "source": [
    "data1 = pd.read_parquet('data/parquet_samples/13_06_22/radar_samples_192.168.67.112_412.parquet')\n",
    "data1 = data1.iloc[:, :6]\n",
    "data1"
   ],
   "outputs": []
  },
  {
   "cell_type": "code",
   "execution_count": 15,
   "id": "036de46c-3390-487c-b775-de4575cc6035",
   "metadata": {},
   "source": [
    "col_names = data1.columns\n",
    "col_names"
   ],
   "outputs": []
  },
  {
   "cell_type": "code",
   "execution_count": 16,
   "id": "00a6dc61-562d-4fc1-9820-5b1677c18e43",
   "metadata": {},
   "source": [
    "all_col_l = []\n",
    "for col in col_names:\n",
    "    df = data1[col]\n",
    "    data_series = pd.DataFrame(df)\n",
    "    data_series_exploded = data_series.explode(col)\n",
    "    merged_list = data_series_exploded[col].tolist()\n",
    "    # normalize\n",
    "    merged_l_mean = np.mean(merged_list)\n",
    "    merged_l_std = np.std(merged_list)\n",
    "    merged_list = (merged_list - merged_l_mean) / merged_l_std\n",
    "    \n",
    "    all_col_l.append(merged_list)"
   ],
   "outputs": []
  },
  {
   "cell_type": "code",
   "execution_count": 7,
   "id": "435b2bb0-24b0-475e-ae09-7cb7415fd1b7",
   "metadata": {},
   "source": [
    "all_col_arr = np.array(all_col_l)\n",
    "all_col_arr"
   ],
   "outputs": []
  },
  {
   "cell_type": "code",
   "execution_count": 8,
   "id": "8971d1f4-e19e-4402-9575-1d7a3a5930a9",
   "metadata": {},
   "source": [
    "data = all_col_arr\n",
    "# Downsampling factor\n",
    "downsample_factor = 1000\n",
    "\n",
    "# Downsample the data by taking every `downsample_factor` point\n",
    "downsampled_data = data[:, ::downsample_factor]\n",
    "\n",
    "# Plot each channel as a line plot\n",
    "plt.figure(figsize=(15, 10))\n",
    "for i in range(downsampled_data.shape[0]):\n",
    "    plt.plot(downsampled_data[i], label=f'Channel {i+1}')\n",
    "\n",
    "plt.title('Downsampled Data Line Plot')\n",
    "plt.xlabel('Index')\n",
    "plt.ylabel('Value')\n",
    "plt.legend()\n",
    "plt.show()"
   ],
   "outputs": []
  },
  {
   "cell_type": "code",
   "execution_count": 12,
   "id": "ae808f74-be30-47f5-ae56-d66a517cce7b",
   "metadata": {},
   "source": [
    "import matplotlib.pyplot as plt\n",
    "\n",
    "def plot_segments(data, segments):\n",
    "    plt.figure(figsize=(15, 6))\n",
    "    for i in range(data.shape[0]):\n",
    "        plt.plot(data[i], label=f'Channel {i+1}')\n",
    "    for seg in segments:\n",
    "        plt.axvline(x=seg, color='r', linestyle='--')\n",
    "    plt.title('Time Series Segmentation')\n",
    "    plt.xlabel('Time')\n",
    "    plt.ylabel('Value')\n",
    "    plt.legend()\n",
    "    plt.show()\n",
    "\n",
    "# Assuming `data` is your time series data and `segments` is the result from TopDown\n",
    "segments, IG_arr, knee = TopDown(data, k=5, step=100)\n",
    "plot_segments(data, segments)\n"
   ],
   "outputs": []
  },
  {
   "cell_type": "code",
   "execution_count": 11,
   "id": "8071fbfc-4b0f-4225-a430-e2cf68f961d6",
   "metadata": {
    "scrolled": true
   },
   "source": [
    "# Define the chunk size\n",
    "chunk_size = 100000\n",
    "\n",
    "# Number of chunks\n",
    "num_chunks = data.shape[1] // chunk_size\n",
    "\n",
    "# Plot each chunk\n",
    "for chunk in range(num_chunks):\n",
    "    start = chunk * chunk_size\n",
    "    end = start + chunk_size\n",
    "    chunk_data = data[:, start:end]\n",
    "    \n",
    "    # TopDown Approach\n",
    "    Integ_TS = chunk_data\n",
    "    TD_TT, IG_TT, knee =TopDown(Integ_TS, k=8,1,1)\n",
    "    segment_points = TD_TT\n",
    "\n",
    "\n",
    "    \n",
    "    plt.figure(figsize=(15, 10))\n",
    "    for i in range(chunk_data.shape[0]):\n",
    "        plt.plot(chunk_data[i], label=f'Channel {i+1}', alpha=0.3)\n",
    "        # Overlay segment points\n",
    "    for point in segment_points:\n",
    "        plt.axvline(x=point, color='r', linestyle='--', label=f'Segment {point}')\n",
    "\n",
    "    \n",
    "    plt.title(f'Data from index {start} to {end}')\n",
    "    plt.xlabel('Index within chunk')\n",
    "    plt.ylabel('Value')\n",
    "    plt.legend()\n",
    "    plt.show()"
   ],
   "outputs": []
  },
  {
   "cell_type": "code",
   "execution_count": 45,
   "id": "c238b43b-f6e8-45b5-bc6a-5864713ce4ce",
   "metadata": {},
   "source": [
    "Integ_TS = downsampled_data"
   ],
   "outputs": []
  },
  {
   "cell_type": "code",
   "execution_count": 12,
   "id": "ed40bc20-25ab-4acc-b3a3-cfb0bcde6bb8",
   "metadata": {},
   "source": [
    "TS_len=420\n",
    "TS_dim=6\n",
    "k=3\n",
    "Integ_TS = np.zeros((TS_dim, TS_len))\n",
    "print((TS_len/40)-1)\n",
    "display(Integ_TS.shape)\n",
    "display(Integ_TS)"
   ],
   "outputs": []
  },
  {
   "cell_type": "code",
   "execution_count": 4,
   "id": "a4fc8b69-95de-4ace-919b-bb35fc807371",
   "metadata": {},
   "source": [
    "GT_TT = 40 * np.random.randint(1,(TS_len/40)-1, size=k)\n",
    "GT_TT = GT_TT-1\n",
    "GT_TT"
   ],
   "outputs": []
  },
  {
   "cell_type": "code",
   "execution_count": 5,
   "id": "89ef6150-e428-4ae9-8a3f-39bd36c9f496",
   "metadata": {},
   "source": [
    "gt = np.append(np.array(1), np.append(sorted(GT_TT),np.array(TS_len)))\n",
    "print('GT_TT >>>' , sorted(GT_TT))"
   ],
   "outputs": []
  },
  {
   "cell_type": "code",
   "execution_count": 6,
   "id": "a2a0c997-f2b7-4945-a5b1-f070facb3144",
   "metadata": {},
   "source": [
    "Lval=0\n",
    "for i in range(k):\n",
    "    for d in range(TS_dim):\n",
    "        val = np.random.randint(1,6)\n",
    "        if Lval==val:\n",
    "            val=val+2\n",
    "        for j in range(gt[i],gt[i+1],1):\n",
    "            Integ_TS[d,j] = val\n",
    "        Lval=val"
   ],
   "outputs": []
  },
  {
   "cell_type": "code",
   "execution_count": 16,
   "id": "fcdc27cb-e8f9-4c4a-ba50-a77d2c22dcf7",
   "metadata": {},
   "source": [
    "Integ_TS = Integ_TS /2\n",
    "mu, sigma = 0, 0.1 \n",
    "noise = np.random.normal(mu, sigma, [TS_dim,TS_len]) \n",
    "Integ_TS = Integ_TS + noise\n",
    "print(Integ_TS.shape)\n",
    "display(Integ_TS)"
   ],
   "outputs": []
  },
  {
   "cell_type": "code",
   "execution_count": 46,
   "id": "14597490-30b1-4d4c-a35f-475c0bcfead7",
   "metadata": {},
   "source": [
    "DP_TT,_ =DP_IGTS(Integ_TS, k,1,1)\n",
    "print('Dynamic Programming extracted TT >>>' , DP_TT)"
   ],
   "outputs": []
  },
  {
   "cell_type": "code",
   "execution_count": 48,
   "id": "b7f36ed8-e6be-4321-ab20-fb2f845692a2",
   "metadata": {},
   "source": [
    "# TopDown Approach\n",
    "TD_TT, IG_TT, knee =TopDown(Integ_TS, k,1,1)\n",
    "print('Top Down Approach:\\n extracted  boundaries>>> {}\\n Corresponding IG values >>> {} - knee point : {}'.format(TD_TT,IG_TT,knee))"
   ],
   "outputs": []
  },
  {
   "cell_type": "code",
   "execution_count": 49,
   "id": "369d0a49-af06-406b-8dec-9dac020900c8",
   "metadata": {},
   "source": [
    "segment_points = TD_TT"
   ],
   "outputs": []
  },
  {
   "cell_type": "code",
   "execution_count": 21,
   "id": "f54e32fe-abac-41bb-993c-b5b4a807d876",
   "metadata": {},
   "source": [
    "# Plot each row as a separate line\n",
    "plt.figure(figsize=(10, 6))\n",
    "for i in range(data.shape[0]):\n",
    "    plt.plot(data[i], label=f'Row {i+1}')\n",
    "\n",
    "plt.title('Line Plot of the 2D Array')\n",
    "plt.xlabel('Column Index')\n",
    "plt.ylabel('Value')\n",
    "plt.legend()\n",
    "plt.show()"
   ],
   "outputs": []
  },
  {
   "cell_type": "code",
   "execution_count": 9,
   "id": "a11f9775-583a-4a6e-9c7a-a99bb8e0f1b1",
   "metadata": {},
   "source": [
    "data = Integ_TS\n",
    "# Plot each row of data\n",
    "plt.figure(figsize=(14, 8))\n",
    "for i in range(data.shape[0]):\n",
    "    plt.plot(data[i], label=f'Row {i+1}')\n",
    "\n",
    "# Overlay segment points\n",
    "for point in segment_points:\n",
    "    plt.axvline(x=point, color='r', linestyle='--', label=f'Segment {point}')\n",
    "\n",
    "plt.title('Data with Segment Boundaries')\n",
    "plt.xlabel('Index')\n",
    "plt.ylabel('Value')\n",
    "plt.legend()\n",
    "plt.show()"
   ],
   "outputs": []
  },
  {
   "cell_type": "code",
   "execution_count": null,
   "id": "e49e72f1-2a9c-4830-9f7c-c4cc061de347",
   "metadata": {},
   "source": [],
   "outputs": []
  }
 ],
 "metadata": {
  "kernelspec": {
   "display_name": "Python 3 (ipykernel)",
   "language": "python",
   "name": "python3"
  },
  "language_info": {
   "codemirror_mode": {
    "name": "ipython",
    "version": 3
   },
   "file_extension": ".py",
   "mimetype": "text/x-python",
   "name": "python",
   "nbconvert_exporter": "python",
   "pygments_lexer": "ipython3",
   "version": "3.11.9"
  }
 },
 "nbformat": 4,
 "nbformat_minor": 5
}
